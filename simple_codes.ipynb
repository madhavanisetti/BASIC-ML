{
  "nbformat": 4,
  "nbformat_minor": 0,
  "metadata": {
    "colab": {
      "name": "simple codes.ipynb",
      "provenance": [],
      "authorship_tag": "ABX9TyMUunkbG9WwiKQ6Sd2czRAC",
      "include_colab_link": true
    },
    "kernelspec": {
      "name": "python3",
      "display_name": "Python 3"
    },
    "language_info": {
      "name": "python"
    }
  },
  "cells": [
    {
      "cell_type": "markdown",
      "metadata": {
        "id": "view-in-github",
        "colab_type": "text"
      },
      "source": [
        "<a href=\"https://colab.research.google.com/github/madhavanisetti/BASIC-ML/blob/main/simple_codes.ipynb\" target=\"_parent\"><img src=\"https://colab.research.google.com/assets/colab-badge.svg\" alt=\"Open In Colab\"/></a>"
      ]
    },
    {
      "cell_type": "markdown",
      "metadata": {
        "id": "95LuCPI33dLt"
      },
      "source": [
        "### simple codes of python\n"
      ]
    },
    {
      "cell_type": "markdown",
      "metadata": {
        "id": "6P0RncJA5gx4"
      },
      "source": [
        "adding of 3 numbers"
      ]
    },
    {
      "cell_type": "code",
      "metadata": {
        "colab": {
          "base_uri": "https://localhost:8080/"
        },
        "id": "dujgEv0F3yl3",
        "outputId": "7f348259-944b-4ee5-8ccc-04ae17ec7995"
      },
      "source": [
        "a = 9\n",
        "b = 6\n",
        "c = 1\n",
        "d = a + b + c \n",
        "print(\"the sum of the 3 numbers is {}\".format(d))"
      ],
      "execution_count": 7,
      "outputs": [
        {
          "output_type": "stream",
          "text": [
            "the sum of the 3 numbers is 16\n"
          ],
          "name": "stdout"
        }
      ]
    },
    {
      "cell_type": "markdown",
      "metadata": {
        "id": "jJGg7KJp5oo9"
      },
      "source": [
        "###  the square root of the number\n"
      ]
    },
    {
      "cell_type": "code",
      "metadata": {
        "colab": {
          "base_uri": "https://localhost:8080/"
        },
        "id": "9ny4W41w5fJ4",
        "outputId": "9b214d96-e1ae-4cc8-d11f-c3842e34b448"
      },
      "source": [
        "num = int(input(\"enter a number: \"))\n",
        "square_root = num ** 0.5\n",
        "print(\"the square of the number {} is {}\".format(num,square_root))"
      ],
      "execution_count": 5,
      "outputs": [
        {
          "output_type": "stream",
          "text": [
            "enter a number: 16\n",
            "the square of the number 16 is 4.0\n"
          ],
          "name": "stdout"
        }
      ]
    },
    {
      "cell_type": "markdown",
      "metadata": {
        "id": "cMhbpVZL6jEu"
      },
      "source": [
        "### swaping two variables"
      ]
    },
    {
      "cell_type": "code",
      "metadata": {
        "colab": {
          "base_uri": "https://localhost:8080/"
        },
        "id": "8lIvKO8G6vZ6",
        "outputId": "91cc7478-9f79-4b10-f1cf-0eebe5f73bc6"
      },
      "source": [
        "x = input('Enter value of x: ')\n",
        "y = input('Enter value of y: ')\n",
        "\n",
        "temp = x\n",
        "x = y\n",
        "y = temp\n",
        "\n",
        "print('The value of x after swapping: {}'.format(x))\n",
        "print('The value of y after swapping: {}'.format(y))\n"
      ],
      "execution_count": 6,
      "outputs": [
        {
          "output_type": "stream",
          "text": [
            "Enter value of x: 2\n",
            "Enter value of y: 3\n",
            "The value of x after swapping: 3\n",
            "The value of y after swapping: 2\n"
          ],
          "name": "stdout"
        }
      ]
    },
    {
      "cell_type": "code",
      "metadata": {
        "id": "R7eVA26P7ntV"
      },
      "source": [
        ""
      ],
      "execution_count": null,
      "outputs": []
    }
  ]
}